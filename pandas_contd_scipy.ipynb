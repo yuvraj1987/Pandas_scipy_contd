{
 "cells": [
  {
   "cell_type": "code",
   "execution_count": 1,
   "metadata": {},
   "outputs": [
    {
     "name": "stdout",
     "output_type": "stream",
     "text": [
      "<class 'pandas.core.frame.DataFrame'>\n",
      "RangeIndex: 1016395 entries, 0 to 1016394\n",
      "Data columns (total 7 columns):\n",
      "Unnamed: 0    1016395 non-null int64\n",
      "Id            1016395 non-null int64\n",
      "Name          1016395 non-null object\n",
      "Year          1016395 non-null int64\n",
      "Gender        1016395 non-null object\n",
      "State         1016395 non-null object\n",
      "Count         1016395 non-null int64\n",
      "dtypes: int64(4), object(3)\n",
      "memory usage: 54.3+ MB\n",
      "None\n"
     ]
    }
   ],
   "source": [
    "# \n",
    "import pandas as pd\n",
    "Data_set = pd.read_csv(\"https://raw.githubusercontent.com/guipsamora/pandas_exercises/master/06_Stats/US_Baby_Names/US_Baby_Names_right.csv\")\n",
    "print (Data_set.info())"
   ]
  },
  {
   "cell_type": "code",
   "execution_count": 6,
   "metadata": {},
   "outputs": [
    {
     "name": "stdout",
     "output_type": "stream",
     "text": [
      "Index(['Id', 'Name', 'Year', 'Gender', 'State', 'Count'], dtype='object')\n",
      "<class 'pandas.core.frame.DataFrame'>\n",
      "RangeIndex: 1016395 entries, 0 to 1016394\n",
      "Data columns (total 6 columns):\n",
      "Id        1016395 non-null int64\n",
      "Name      1016395 non-null object\n",
      "Year      1016395 non-null int64\n",
      "Gender    1016395 non-null object\n",
      "State     1016395 non-null object\n",
      "Count     1016395 non-null int64\n",
      "dtypes: int64(3), object(3)\n",
      "memory usage: 46.5+ MB\n",
      "None\n"
     ]
    }
   ],
   "source": [
    "# Delete the unamed_col\n",
    "Data_set_2 = Data_set.copy()\n",
    "\n",
    "del Data_set_2['Unnamed: 0']\n",
    "\n",
    "print (Data_set_2.columns)\n",
    "print (Data_set_2.info())\n"
   ]
  },
  {
   "cell_type": "code",
   "execution_count": 8,
   "metadata": {},
   "outputs": [
    {
     "name": "stdout",
     "output_type": "stream",
     "text": [
      "F    558846\n",
      "M    457549\n",
      "Name: Gender, dtype: int64\n"
     ]
    }
   ],
   "source": [
    "# Show the distribution of male and female\n",
    "distribution_male_female = Data_set_2.Gender.value_counts()\n",
    "print (distribution_male_female)"
   ]
  },
  {
   "cell_type": "code",
   "execution_count": 12,
   "metadata": {},
   "outputs": [
    {
     "name": "stdout",
     "output_type": "stream",
     "text": [
      "Riley     1112\n",
      "Avery     1080\n",
      "Jordan    1073\n",
      "Peyton    1064\n",
      "Hayden    1049\n",
      "Name: Name, dtype: int64\n"
     ]
    }
   ],
   "source": [
    "# Show the top 5 most prefreed names\n",
    "top_5_names = Data_set_2.Name.value_counts().head()\n",
    "print (top_5_names)"
   ]
  },
  {
   "cell_type": "code",
   "execution_count": 35,
   "metadata": {},
   "outputs": [
    {
     "name": "stdout",
     "output_type": "stream",
     "text": [
      "(array([508197], dtype=int64),)\n",
      "             Id   Name  Year Gender State  Count\n",
      "508197  2811921  Kasey  2010      F    MO      6\n",
      "508197    Kasey\n",
      "Name: Name, dtype: object\n"
     ]
    }
   ],
   "source": [
    "# What is the medain name occuernce in data set\n",
    "import numpy as np\n",
    "Median_index_value =  (np.where(Data_set_2.Id == Data_set_2.Id.median() ))\n",
    "print (Median_index_value)\n",
    "Median_name = Data_set_2.loc[Median_index_value]\n",
    "print (Median_name)\n",
    "print (Data_set_2.Name[Median_index_value[0]])\n"
   ]
  },
  {
   "cell_type": "code",
   "execution_count": 61,
   "metadata": {},
   "outputs": [
    {
     "name": "stdout",
     "output_type": "stream",
     "text": [
      "Gender      F      M\n",
      "State               \n",
      "AK       2404   2587\n",
      "AL       9878   8419\n",
      "AR       7171   6475\n",
      "AZ      14518  10820\n",
      "CA      45144  31637\n"
     ]
    }
   ],
   "source": [
    "# Distribution of male and female born count by states\n",
    "Dist_F_M = pd.pivot_table(Data_set_2, values=\"Count\",\n",
    "                         index='State',\n",
    "                         columns='Gender',aggfunc=np.count_nonzero)\n",
    "\n",
    "print (Dist_F_M.head())\n"
   ]
  },
  {
   "cell_type": "code",
   "execution_count": null,
   "metadata": {},
   "outputs": [],
   "source": []
  }
 ],
 "metadata": {
  "kernelspec": {
   "display_name": "Python 3",
   "language": "python",
   "name": "python3"
  },
  "language_info": {
   "codemirror_mode": {
    "name": "ipython",
    "version": 3
   },
   "file_extension": ".py",
   "mimetype": "text/x-python",
   "name": "python",
   "nbconvert_exporter": "python",
   "pygments_lexer": "ipython3",
   "version": "3.6.5"
  }
 },
 "nbformat": 4,
 "nbformat_minor": 2
}
